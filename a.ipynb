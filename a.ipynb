{
 "cells": [
  {
   "cell_type": "markdown",
   "id": "37c8c36c-1423-425c-8479-7d7d8975ea65",
   "metadata": {},
   "source": [
    "# Método SIMPLEX"
   ]
  },
  {
   "cell_type": "markdown",
   "id": "395921a5-aa64-45d9-bb5c-ba862bd22246",
   "metadata": {},
   "source": [
    "### Pegando matriz"
   ]
  },
  {
   "cell_type": "code",
   "execution_count": 196,
   "id": "c1e63851-9e30-4b9a-80ac-97d066049938",
   "metadata": {
    "scrolled": true
   },
   "outputs": [
    {
     "name": "stdin",
     "output_type": "stream",
     "text": [
      "Digite uma linha (ou \"p\" para parar) \n",
      " 1 2 3\n",
      "Digite uma linha (ou \"p\" para parar) \n",
      " 4 5 6\n",
      "Digite uma linha (ou \"p\" para parar) \n",
      " -1 -10 5\n",
      "Digite uma linha (ou \"p\" para parar) \n",
      " p\n"
     ]
    }
   ],
   "source": [
    "matriz = []\n",
    "\n",
    "while True:\n",
    "    linha = input(\"Digite uma linha (ou \\\"p\\\" para parar) \\n\")\n",
    "\n",
    "    if linha.lower() == \"p\": #condição de parada\n",
    "        break\n",
    "\n",
    "    linha = linha.split()\n",
    "\n",
    "    try:\n",
    "        linha = [float(x) for x in linha] #cast para float\n",
    "    except ValueError:\n",
    "        print(\"Insira apenas números ou \\\"p\\\" para parar \\n\")\n",
    "        continue\n",
    "\n",
    "    matriz.append(linha)"
   ]
  },
  {
   "cell_type": "code",
   "execution_count": 198,
   "id": "6b383384-c6aa-4305-9978-d9abda722acc",
   "metadata": {},
   "outputs": [
    {
     "name": "stdout",
     "output_type": "stream",
     "text": [
      "[1.0, 2.0, 3.0]\n",
      "[4.0, 5.0, 6.0]\n",
      "[-1.0, -10.0, 5.0]\n"
     ]
    }
   ],
   "source": [
    "for linha in matriz:\n",
    "    print(linha)"
   ]
  },
  {
   "cell_type": "markdown",
   "id": "d9849a4d-92af-42f3-8ca7-c71bce2873f6",
   "metadata": {},
   "source": [
    "### Realizando cálculos"
   ]
  },
  {
   "cell_type": "code",
   "execution_count": 216,
   "id": "1f9d2fc3-6378-4948-86f1-eaa96f05134a",
   "metadata": {},
   "outputs": [
    {
     "data": {
      "text/plain": [
       "3"
      ]
     },
     "execution_count": 216,
     "metadata": {},
     "output_type": "execute_result"
    }
   ],
   "source": [
    "tam_coluna = len(matriz)\n",
    "tam_coluna"
   ]
  },
  {
   "cell_type": "code",
   "execution_count": 218,
   "id": "909e3db2-00a7-44eb-bc3c-0026197c37a1",
   "metadata": {},
   "outputs": [
    {
     "data": {
      "text/plain": [
       "3"
      ]
     },
     "execution_count": 218,
     "metadata": {},
     "output_type": "execute_result"
    }
   ],
   "source": [
    "for a in matriz:\n",
    "    tam_linha = len(a)\n",
    "\n",
    "tam_linha"
   ]
  },
  {
   "cell_type": "code",
   "execution_count": 222,
   "id": "fead1533-c2b3-439b-a88b-80d0f6d78fbf",
   "metadata": {},
   "outputs": [
    {
     "data": {
      "text/plain": [
       "[-1.0, -10.0, 5.0]"
      ]
     },
     "execution_count": 222,
     "metadata": {},
     "output_type": "execute_result"
    }
   ],
   "source": [
    "ultima_linha = matriz[tam_coluna-1]\n",
    "\n",
    "ultima_linha"
   ]
  },
  {
   "cell_type": "code",
   "execution_count": 224,
   "id": "3402416c-048f-4627-a9f6-216cf0419813",
   "metadata": {},
   "outputs": [
    {
     "data": {
      "text/plain": [
       "-10.0"
      ]
     },
     "execution_count": 224,
     "metadata": {},
     "output_type": "execute_result"
    }
   ],
   "source": [
    "menor = min(ultima_linha)\n",
    "\n",
    "menor"
   ]
  },
  {
   "cell_type": "code",
   "execution_count": 228,
   "id": "fbce5554-0eec-4ed2-8b29-af30f7dad374",
   "metadata": {},
   "outputs": [
    {
     "data": {
      "text/plain": [
       "1"
      ]
     },
     "execution_count": 228,
     "metadata": {},
     "output_type": "execute_result"
    }
   ],
   "source": [
    "for i in range(tam_linha): \n",
    "    if ultima_linha[i] == menor:\n",
    "        menor_coluna = i\n",
    "\n",
    "menor_coluna"
   ]
  },
  {
   "cell_type": "code",
   "execution_count": 230,
   "id": "5ae6dc5b-b443-4b59-ae9d-22944d6bf1da",
   "metadata": {},
   "outputs": [],
   "source": [
    "aux = []\n",
    "for e in range(tam_linha-1): #iterar sobre linhas e fixar coluna\n",
    "    if matriz[e][menor_coluna] != 0:\n",
    "        aux.append(matriz[e][tam_linha-1] / matriz[e][menor_coluna])"
   ]
  },
  {
   "cell_type": "code",
   "execution_count": null,
   "id": "bccd850a-3956-4a0f-8e06-244208f9cb90",
   "metadata": {},
   "outputs": [],
   "source": []
  }
 ],
 "metadata": {
  "kernelspec": {
   "display_name": "Python 3 (ipykernel)",
   "language": "python",
   "name": "python3"
  },
  "language_info": {
   "codemirror_mode": {
    "name": "ipython",
    "version": 3
   },
   "file_extension": ".py",
   "mimetype": "text/x-python",
   "name": "python",
   "nbconvert_exporter": "python",
   "pygments_lexer": "ipython3",
   "version": "3.12.7"
  }
 },
 "nbformat": 4,
 "nbformat_minor": 5
}
