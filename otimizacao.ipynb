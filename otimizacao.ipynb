{
 "cells": [
  {
   "cell_type": "markdown",
   "id": "37c8c36c-1423-425c-8479-7d7d8975ea65",
   "metadata": {},
   "source": [
    "# Método SIMPLEX"
   ]
  },
  {
   "cell_type": "code",
   "execution_count": 1,
   "id": "fee08ccd-da95-4777-aa55-2db3b7cf74db",
   "metadata": {},
   "outputs": [],
   "source": [
    "import numpy as np\n",
    "import sys"
   ]
  },
  {
   "cell_type": "code",
   "execution_count": 33,
   "id": "90e88339-f48c-4daf-a4c0-45956e71f2c8",
   "metadata": {},
   "outputs": [],
   "source": [
    "def print_matriz(matriz, qtd_linha, qtd_coluna):\n",
    "    for i in range(qtd_linha):\n",
    "        for j in range(qtd_coluna):\n",
    "            print(matriz[i][j], end=\" \")\n",
    "\n",
    "        print()"
   ]
  },
  {
   "cell_type": "markdown",
   "id": "cfd17464-63f7-4011-825d-944a9fd08e11",
   "metadata": {},
   "source": [
    "### Pegando quantidade de variáveis"
   ]
  },
  {
   "cell_type": "code",
   "execution_count": 183,
   "id": "968c073b-c852-465c-ad55-4218174b9330",
   "metadata": {},
   "outputs": [
    {
     "name": "stdin",
     "output_type": "stream",
     "text": [
      "Quantas variáveis tem a função objetivo? \n",
      " 3\n"
     ]
    }
   ],
   "source": [
    "qtd_var_obj = int(input(\"Quantas variáveis tem a função objetivo? \\n\"))"
   ]
  },
  {
   "cell_type": "code",
   "execution_count": 185,
   "id": "c7b39118-0d90-461d-8663-ffc8ef0b5833",
   "metadata": {},
   "outputs": [
    {
     "name": "stdin",
     "output_type": "stream",
     "text": [
      "Quantas restrições com desigualdade? \n",
      " 4\n"
     ]
    }
   ],
   "source": [
    "qtd_res_des = int(input(\"Quantas restrições com desigualdade? \\n\"))"
   ]
  },
  {
   "cell_type": "code",
   "execution_count": 187,
   "id": "52c3d0d2-25f4-43ef-b3d2-1ab3ad0e7ca6",
   "metadata": {},
   "outputs": [
    {
     "data": {
      "text/plain": [
       "array([4, 5, 6, 7])"
      ]
     },
     "execution_count": 187,
     "metadata": {},
     "output_type": "execute_result"
    }
   ],
   "source": [
    "lista_var = []\n",
    "\n",
    "for i in range(qtd_var_obj+1, (qtd_var_obj + qtd_res_des)+1):\n",
    "    lista_var.append(i)\n",
    "\n",
    "lista_var = np.array(lista_var)\n",
    "\n",
    "lista_var"
   ]
  },
  {
   "cell_type": "markdown",
   "id": "395921a5-aa64-45d9-bb5c-ba862bd22246",
   "metadata": {},
   "source": [
    "### Pegando matriz"
   ]
  },
  {
   "cell_type": "code",
   "execution_count": 196,
   "id": "c1e63851-9e30-4b9a-80ac-97d066049938",
   "metadata": {
    "scrolled": true
   },
   "outputs": [
    {
     "name": "stdin",
     "output_type": "stream",
     "text": [
      "Digite uma linha (ou \"p\" para parar) \n",
      " 2 2 4 1 0 0 0 300\n",
      "Digite uma linha (ou \"p\" para parar) \n",
      " 0 4 3 0 1 0 0 200\n",
      "Digite uma linha (ou \"p\" para parar) \n",
      " 1 0 0 0 0 1 0 20\n",
      "Digite uma linha (ou \"p\" para parar) \n",
      " 4 3 0 0 0 0 1 50\n",
      "Digite uma linha (ou \"p\" para parar) \n",
      " -10 -20 -30 0 0 0 0 0\n",
      "Digite uma linha (ou \"p\" para parar) \n",
      " p\n"
     ]
    }
   ],
   "source": [
    "mat = []\n",
    "\n",
    "while True:\n",
    "    linha = input(\"Digite uma linha (ou \\\"p\\\" para parar) \\n\")\n",
    "\n",
    "    if linha.lower() == \"p\": #condição de parada\n",
    "        break\n",
    "\n",
    "    linha = linha.split()\n",
    "\n",
    "    try:\n",
    "        linha = [float(x) for x in linha] #cast para float\n",
    "    except ValueError:\n",
    "        print(\"Insira apenas números ou \\\"p\\\" para parar \\n\")\n",
    "        continue\n",
    "\n",
    "    mat.append(linha)"
   ]
  },
  {
   "cell_type": "code",
   "execution_count": 198,
   "id": "294b4480-4264-475a-91c9-485d7b59e0c0",
   "metadata": {},
   "outputs": [],
   "source": [
    "matriz = np.array(mat)"
   ]
  },
  {
   "cell_type": "code",
   "execution_count": 200,
   "id": "33815a04-ff37-4b8a-93a3-0f13c193651f",
   "metadata": {},
   "outputs": [
    {
     "data": {
      "text/plain": [
       "array([[  2.,   2.,   4.,   1.,   0.,   0.,   0., 300.],\n",
       "       [  0.,   4.,   3.,   0.,   1.,   0.,   0., 200.],\n",
       "       [  1.,   0.,   0.,   0.,   0.,   1.,   0.,  20.],\n",
       "       [  4.,   3.,   0.,   0.,   0.,   0.,   1.,  50.],\n",
       "       [-10., -20., -30.,   0.,   0.,   0.,   0.,   0.]])"
      ]
     },
     "execution_count": 200,
     "metadata": {},
     "output_type": "execute_result"
    }
   ],
   "source": [
    "matriz"
   ]
  },
  {
   "cell_type": "markdown",
   "id": "d9849a4d-92af-42f3-8ca7-c71bce2873f6",
   "metadata": {},
   "source": [
    "### Realizando cálculos"
   ]
  },
  {
   "cell_type": "code",
   "execution_count": 203,
   "id": "1f9d2fc3-6378-4948-86f1-eaa96f05134a",
   "metadata": {},
   "outputs": [
    {
     "data": {
      "text/plain": [
       "5"
      ]
     },
     "execution_count": 203,
     "metadata": {},
     "output_type": "execute_result"
    }
   ],
   "source": [
    "qtd_linha = len(matriz)\n",
    "qtd_linha"
   ]
  },
  {
   "cell_type": "code",
   "execution_count": 204,
   "id": "909e3db2-00a7-44eb-bc3c-0026197c37a1",
   "metadata": {},
   "outputs": [
    {
     "data": {
      "text/plain": [
       "8"
      ]
     },
     "execution_count": 204,
     "metadata": {},
     "output_type": "execute_result"
    }
   ],
   "source": [
    "qtd_coluna = len(matriz[0])\n",
    "\n",
    "qtd_coluna"
   ]
  },
  {
   "cell_type": "code",
   "execution_count": 207,
   "id": "fead1533-c2b3-439b-a88b-80d0f6d78fbf",
   "metadata": {},
   "outputs": [
    {
     "data": {
      "text/plain": [
       "array([-10., -20., -30.,   0.,   0.,   0.,   0.,   0.])"
      ]
     },
     "execution_count": 207,
     "metadata": {},
     "output_type": "execute_result"
    }
   ],
   "source": [
    "ultima_linha = matriz[qtd_linha-1]\n",
    "\n",
    "ultima_linha"
   ]
  },
  {
   "cell_type": "code",
   "execution_count": 209,
   "id": "1174279f-13fb-4260-a794-0124a5f180a8",
   "metadata": {},
   "outputs": [
    {
     "name": "stdout",
     "output_type": "stream",
     "text": [
      "[4 3 6 1]\n",
      "0.0 -4.833333333333333 0.0 1.0 -1.3333333333333333 0.0 -0.5 8.333333333333314 \n",
      "0.0 1.3333333333333333 1.0 0.0 0.3333333333333333 0.0 0.0 66.66666666666667 \n",
      "0.0 -0.75 0.0 0.0 0.0 1.0 -0.25 7.5 \n",
      "1.0 0.75 0.0 0.0 0.0 0.0 0.25 12.5 \n",
      "0.0 27.5 0.0 0.0 10.0 0.0 2.5 2125.0 \n"
     ]
    }
   ],
   "source": [
    "while len([*filter(lambda x: x < 0, ultima_linha)]) > 0:\n",
    "    menor = min(ultima_linha)\n",
    "\n",
    "    for i in range(qtd_coluna): \n",
    "        if ultima_linha[i] == menor:\n",
    "            coluna_pivo = i\n",
    "\n",
    "    aux_m = 2 * sys.maxsize + 1\n",
    "    linha_pivo = -1\n",
    "    \n",
    "    for i in range(qtd_linha-1):\n",
    "        e = matriz[i][coluna_pivo]\n",
    "    \n",
    "        if e != 0:\n",
    "            f = matriz[i][qtd_coluna-1] / e\n",
    "    \n",
    "            if f < aux_m:\n",
    "                aux_m = f\n",
    "                linha_pivo = i\n",
    "                \n",
    "    lista_var[linha_pivo] = coluna_pivo + 1\n",
    "\n",
    "    matriz[linha_pivo] = matriz[linha_pivo] / matriz[linha_pivo][coluna_pivo]\n",
    "\n",
    "    for i in range(qtd_linha):\n",
    "        if i != linha_pivo:\n",
    "            matriz[i] = matriz[i] - (matriz[i][coluna_pivo] * matriz[linha_pivo])"
   ]
  },
  {
   "cell_type": "markdown",
   "id": "fce1a0cf-81d2-4458-80da-c838e2f61556",
   "metadata": {},
   "source": [
    "### Mostrando resultados"
   ]
  },
  {
   "cell_type": "code",
   "execution_count": 219,
   "id": "c157f40e-a59b-4e90-b6b5-aada7cf20751",
   "metadata": {},
   "outputs": [
    {
     "name": "stdout",
     "output_type": "stream",
     "text": [
      "0.0 -4.833333333333333 0.0 1.0 -1.3333333333333333 0.0 -0.5 8.333333333333314 \n",
      "0.0 1.3333333333333333 1.0 0.0 0.3333333333333333 0.0 0.0 66.66666666666667 \n",
      "0.0 -0.75 0.0 0.0 0.0 1.0 -0.25 7.5 \n",
      "1.0 0.75 0.0 0.0 0.0 0.0 0.25 12.5 \n",
      "0.0 27.5 0.0 0.0 10.0 0.0 2.5 2125.0 \n"
     ]
    }
   ],
   "source": [
    "#print(lista_var)\n",
    "print_matriz(matriz, qtd_linha, qtd_coluna)"
   ]
  },
  {
   "cell_type": "code",
   "execution_count": 217,
   "id": "ec9db4c6-d16f-43db-b140-a287fcc80f06",
   "metadata": {},
   "outputs": [
    {
     "name": "stdout",
     "output_type": "stream",
     "text": [
      "x4 = 8.333333333333314\n",
      "x3 = 66.66666666666667\n",
      "x6 = 7.5\n",
      "x1 = 12.5\n",
      "\n",
      "z = 2125.0\n"
     ]
    }
   ],
   "source": [
    "for i in range(len(lista_var)):\n",
    "    print(f\"x{lista_var[i]} = {matriz[i][qtd_coluna-1]}\")\n",
    "\n",
    "print()\n",
    "print(f\"z = {matriz[qtd_linha-1][qtd_coluna-1]}\")"
   ]
  },
  {
   "cell_type": "markdown",
   "id": "26df191e-7770-40bf-b74e-c2ace0942f14",
   "metadata": {},
   "source": [
    "### Rascunho"
   ]
  },
  {
   "cell_type": "code",
   "execution_count": 10,
   "id": "3402416c-048f-4627-a9f6-216cf0419813",
   "metadata": {},
   "outputs": [
    {
     "data": {
      "text/plain": [
       "-30.0"
      ]
     },
     "execution_count": 10,
     "metadata": {},
     "output_type": "execute_result"
    }
   ],
   "source": [
    "menor = min(ultima_linha)\n",
    "\n",
    "menor"
   ]
  },
  {
   "cell_type": "code",
   "execution_count": 11,
   "id": "fbce5554-0eec-4ed2-8b29-af30f7dad374",
   "metadata": {},
   "outputs": [
    {
     "data": {
      "text/plain": [
       "2"
      ]
     },
     "execution_count": 11,
     "metadata": {},
     "output_type": "execute_result"
    }
   ],
   "source": [
    "for i in range(qtd_coluna): \n",
    "    if ultima_linha[i] == menor:\n",
    "        coluna_pivo = i\n",
    "\n",
    "coluna_pivo"
   ]
  },
  {
   "cell_type": "code",
   "execution_count": 12,
   "id": "5ae6dc5b-b443-4b59-ae9d-22944d6bf1da",
   "metadata": {},
   "outputs": [
    {
     "name": "stdout",
     "output_type": "stream",
     "text": [
      "66.66666666666667 1\n"
     ]
    }
   ],
   "source": [
    "aux_m = 2 * sys.maxsize + 1\n",
    "linha_pivo = -1\n",
    "\n",
    "for i in range(qtd_linha-1):\n",
    "    e = matriz[i][coluna_pivo]\n",
    "\n",
    "    if e != 0:\n",
    "        f = matriz[i][qtd_coluna-1] / e\n",
    "\n",
    "        if f < aux_m:\n",
    "            aux_m = f\n",
    "            linha_pivo = i\n",
    "        \n",
    "        \n",
    "print(aux_m, linha_pivo)"
   ]
  },
  {
   "cell_type": "code",
   "execution_count": 13,
   "id": "bccd850a-3956-4a0f-8e06-244208f9cb90",
   "metadata": {},
   "outputs": [
    {
     "data": {
      "text/plain": [
       "array([ 0.        ,  1.33333333,  1.        ,  0.        ,  0.33333333,\n",
       "        0.        ,  0.        , 66.66666667])"
      ]
     },
     "execution_count": 13,
     "metadata": {},
     "output_type": "execute_result"
    }
   ],
   "source": [
    "matriz[linha_pivo] = matriz[linha_pivo] / matriz[linha_pivo][coluna_pivo]\n",
    "\n",
    "matriz[linha_pivo]"
   ]
  },
  {
   "cell_type": "code",
   "execution_count": 37,
   "id": "2690e19d-4dc2-4525-ba5c-40effab324e7",
   "metadata": {
    "scrolled": true
   },
   "outputs": [
    {
     "name": "stdout",
     "output_type": "stream",
     "text": [
      "2.0 2.0 4.0 1.0 0.0 0.0 0.0 300.0 \n",
      "0.0 1.3333333333333333 1.0 0.0 0.3333333333333333 0.0 0.0 66.66666666666667 \n",
      "1.0 0.0 0.0 0.0 0.0 1.0 0.0 20.0 \n",
      "4.0 3.0 0.0 0.0 0.0 0.0 1.0 50.0 \n",
      "-10.0 -20.0 -30.0 0.0 0.0 0.0 0.0 0.0 \n"
     ]
    }
   ],
   "source": [
    "print_matriz(matriz, qtd_linha, qtd_coluna)"
   ]
  },
  {
   "cell_type": "code",
   "execution_count": 41,
   "id": "29bd0899-884c-4bf4-9dd8-b6fd6ea8f61f",
   "metadata": {},
   "outputs": [],
   "source": [
    "for i in range(qtd_linha):\n",
    "    if i != linha_pivo:\n",
    "        matriz[i] = matriz[i] - (matriz[i][coluna_pivo] * matriz[linha_pivo])"
   ]
  },
  {
   "cell_type": "code",
   "execution_count": 43,
   "id": "a6497c15-3856-4cb4-94f2-0102a3e643e7",
   "metadata": {},
   "outputs": [
    {
     "name": "stdout",
     "output_type": "stream",
     "text": [
      "2.0 -3.333333333333333 0.0 1.0 -1.3333333333333333 0.0 0.0 33.333333333333314 \n",
      "0.0 1.3333333333333333 1.0 0.0 0.3333333333333333 0.0 0.0 66.66666666666667 \n",
      "1.0 0.0 0.0 0.0 0.0 1.0 0.0 20.0 \n",
      "4.0 3.0 0.0 0.0 0.0 0.0 1.0 50.0 \n",
      "-10.0 20.0 0.0 0.0 10.0 0.0 0.0 2000.0000000000002 \n"
     ]
    }
   ],
   "source": [
    "print_matriz(matriz, qtd_linha, qtd_coluna)"
   ]
  },
  {
   "cell_type": "code",
   "execution_count": 73,
   "id": "66494663-c187-4d25-a97c-cb4d4ce2300a",
   "metadata": {},
   "outputs": [],
   "source": [
    "a = np.array([0, 25, 0, 0, 10, 0, 2.5, 2125])"
   ]
  },
  {
   "cell_type": "code",
   "execution_count": 75,
   "id": "c1c91298-6034-4be6-a1a2-bd0616165564",
   "metadata": {},
   "outputs": [
    {
     "name": "stdout",
     "output_type": "stream",
     "text": [
      "False\n"
     ]
    }
   ],
   "source": [
    "print(len([*filter(lambda x: x < 0, a)]) > 0)"
   ]
  },
  {
   "cell_type": "code",
   "execution_count": null,
   "id": "1ade0285-5f29-4b6e-a000-216400ef72a0",
   "metadata": {},
   "outputs": [],
   "source": []
  },
  {
   "cell_type": "code",
   "execution_count": null,
   "id": "3edf2ea3-3ae6-4c6e-a75a-1625d40f61e6",
   "metadata": {},
   "outputs": [],
   "source": []
  }
 ],
 "metadata": {
  "kernelspec": {
   "display_name": "Python 3 (ipykernel)",
   "language": "python",
   "name": "python3"
  },
  "language_info": {
   "codemirror_mode": {
    "name": "ipython",
    "version": 3
   },
   "file_extension": ".py",
   "mimetype": "text/x-python",
   "name": "python",
   "nbconvert_exporter": "python",
   "pygments_lexer": "ipython3",
   "version": "3.12.7"
  }
 },
 "nbformat": 4,
 "nbformat_minor": 5
}
